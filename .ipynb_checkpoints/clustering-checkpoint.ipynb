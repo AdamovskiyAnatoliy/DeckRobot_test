{
 "cells": [
  {
   "cell_type": "code",
   "execution_count": 1,
   "metadata": {
    "collapsed": true
   },
   "outputs": [],
   "source": [
    "import numpy as np\n",
    "import pandas as pd\n",
    "import matplotlib.pyplot as plt\n",
    "from sklearn.model_selection import train_test_split\n",
    "from sklearn.preprocessing import StandardScaler\n",
    "from sklearn.cluster import DBSCAN\n",
    "\n",
    "%matplotlib inline"
   ]
  },
  {
   "cell_type": "markdown",
   "metadata": {},
   "source": [
    "# Кластеризація"
   ]
  },
  {
   "cell_type": "markdown",
   "metadata": {},
   "source": [
    "Розглянемо випадок коли третій стовпець вважаємо числовим"
   ]
  },
  {
   "cell_type": "code",
   "execution_count": 2,
   "metadata": {
    "collapsed": true
   },
   "outputs": [],
   "source": [
    "df = pd.read_csv('demo_numeric.csv')"
   ]
  },
  {
   "cell_type": "markdown",
   "metadata": {},
   "source": [
    "Розібємо дані на дві частини тренувальні і тестові"
   ]
  },
  {
   "cell_type": "code",
   "execution_count": 3,
   "metadata": {
    "collapsed": true
   },
   "outputs": [],
   "source": [
    "X_train, X_test = train_test_split(df.values, random_state=9)"
   ]
  },
  {
   "cell_type": "code",
   "execution_count": 4,
   "metadata": {
    "scrolled": true
   },
   "outputs": [
    {
     "data": {
      "text/plain": [
       "((43953, 3), (14651, 3))"
      ]
     },
     "execution_count": 4,
     "metadata": {},
     "output_type": "execute_result"
    }
   ],
   "source": [
    "X_train.shape, X_test.shape"
   ]
  },
  {
   "cell_type": "markdown",
   "metadata": {},
   "source": [
    "Промаштабуємо дані так, щоб одиничну диперсію"
   ]
  },
  {
   "cell_type": "code",
   "execution_count": 5,
   "metadata": {
    "collapsed": true,
    "scrolled": true
   },
   "outputs": [],
   "source": [
    "scaler = StandardScaler()"
   ]
  },
  {
   "cell_type": "code",
   "execution_count": 6,
   "metadata": {
    "collapsed": true
   },
   "outputs": [],
   "source": [
    "scaler.fit(X_train)\n",
    "X_train_scaled = scaler.transform(X_train)\n",
    "X_test_scaled = scaler.transform(X_test)"
   ]
  },
  {
   "cell_type": "code",
   "execution_count": 7,
   "metadata": {},
   "outputs": [
    {
     "data": {
      "text/plain": [
       "array([ 1.,  1.,  1.])"
      ]
     },
     "execution_count": 7,
     "metadata": {},
     "output_type": "execute_result"
    }
   ],
   "source": [
    "X_train_scaled.var(axis=0)"
   ]
  },
  {
   "cell_type": "markdown",
   "metadata": {},
   "source": [
    "Для кластеризації скористаємось алгоритмом DBSCAN оскільки він вміє працювати з даними які містять шум і для нього не потрібно задавати число кластерів, він підрахує їх сам."
   ]
  },
  {
   "cell_type": "markdown",
   "metadata": {},
   "source": [
    "Спробуємо визначити кластери спочатку для стандартних налаштувань методу"
   ]
  },
  {
   "cell_type": "code",
   "execution_count": 8,
   "metadata": {
    "collapsed": true
   },
   "outputs": [],
   "source": [
    "dbscan = DBSCAN(n_jobs=-1)"
   ]
  },
  {
   "cell_type": "code",
   "execution_count": 9,
   "metadata": {
    "collapsed": true
   },
   "outputs": [],
   "source": [
    "clusters = dbscan.fit_predict(X_train_scaled)"
   ]
  },
  {
   "cell_type": "code",
   "execution_count": 10,
   "metadata": {
    "scrolled": true
   },
   "outputs": [
    {
     "data": {
      "text/plain": [
       "(array([-1,  0,  1,  2,  3,  4,  5]),\n",
       " array([    6, 24803,  1768,  6277,  5578,  2719,  2802]))"
      ]
     },
     "execution_count": 10,
     "metadata": {},
     "output_type": "execute_result"
    }
   ],
   "source": [
    "np.unique(clusters, return_counts=True)"
   ]
  },
  {
   "cell_type": "markdown",
   "metadata": {},
   "source": [
    "Отриманий результат уже доволі правдоподібний. Спробуємо уточнити деякі параметни щоб точно впевненись у отриманій кількості кластерів"
   ]
  },
  {
   "cell_type": "code",
   "execution_count": 11,
   "metadata": {
    "scrolled": false
   },
   "outputs": [
    {
     "name": "stdout",
     "output_type": "stream",
     "text": [
      "\n",
      "eps=0.1\n",
      "Отримані кластери: [-1  0  1  2  3  4  5  6  7  8  9 10 11 12 13 14 15 16 17 18 19 20 21 22 23\n",
      " 24 25 26 27 28 29 30 31 32 33 34 35 36 37 38 39 40 41 42 43 44 45 46 47 48\n",
      " 49 50 51 52 53 54 55 56 57 58 59 60 61 62 63 64 65 66 67 68 69 70 71 72 73\n",
      " 74 75 76 77 78 79 80 81 82 83 84 85 86 87 88 89 90 91 92 93 94]\n",
      "Розміри кластера: [  706 24622     6  6058  5379    39  2649    13   347  2154    29    14\n",
      "    54     8   375   249     6    36    71    54    12    80    23    26\n",
      "    21    85    26    42     6     7     9    20    28    95    11    11\n",
      "     5     9    18     9    25     9     8    40    10     7     8    10\n",
      "    11     5    24    38     8    15    11     6    20     5    23     5\n",
      "    18     7     8     7    17     5     5     9     5     7     7     6\n",
      "     5     5     7     8     8     6     8    10     5     7     6     7\n",
      "     8     5     7    10     9     1     7     3     4     6     5     5]\n",
      "\n",
      "eps=0.15\n",
      "Отримані кластери: [-1  0  1  2  3  4  5  6  7  8  9 10 11 12 13 14 15 16 17 18 19]\n",
      "Розміри кластера: [  128 24665  1380  6253  5566  2663  2737    13   358    80    39     6\n",
      "     9    13     9    10     3     7     4     5     5]\n",
      "\n",
      "eps=0.2\n",
      "Отримані кластери: [-1  0  1  2  3  4  5  6  7  8]\n",
      "Розміри кластера: [   53 24778  1766  6261  5576  2706  2797     8     3     5]\n",
      "\n",
      "eps=0.25\n",
      "Отримані кластери: [-1  0  1  2  3  4  5  6]\n",
      "Розміри кластера: [   35 24788  1766  6269  5576  2713  2798     8]\n",
      "\n",
      "eps=0.3\n",
      "Отримані кластери: [-1  0  1  2  3  4  5  6]\n",
      "Розміри кластера: [   17 24794  1768  6277  5576  2714  2802     5]\n",
      "\n",
      "eps=0.35\n",
      "Отримані кластери: [-1  0  1  2  3  4  5  6]\n",
      "Розміри кластера: [   10 24798  1768  6277  5578  2715  2802     5]\n",
      "\n",
      "eps=0.4\n",
      "Отримані кластери: [-1  0  1  2  3  4  5  6]\n",
      "Розміри кластера: [   10 24798  1768  6277  5578  2715  2802     5]\n",
      "\n",
      "eps=0.45\n",
      "Отримані кластери: [-1  0  1  2  3  4  5  6]\n",
      "Розміри кластера: [   10 24798  1768  6277  5578  2715  2802     5]\n",
      "\n",
      "eps=0.5\n",
      "Отримані кластери: [-1  0  1  2  3  4  5]\n",
      "Розміри кластера: [    6 24803  1768  6277  5578  2719  2802]\n",
      "\n",
      "eps=0.55\n",
      "Отримані кластери: [-1  0  1]\n",
      "Розміри кластера: [    5 41146  2802]\n",
      "\n",
      "eps=0.6\n",
      "Отримані кластери: [-1  0  1]\n",
      "Розміри кластера: [    5 41146  2802]\n",
      "\n",
      "eps=0.65\n",
      "Отримані кластери: [-1  0  1]\n",
      "Розміри кластера: [    4 41147  2802]\n",
      "\n",
      "eps=0.7\n",
      "Отримані кластери: [-1  0  1]\n",
      "Розміри кластера: [    3 41148  2802]\n",
      "\n",
      "eps=0.75\n",
      "Отримані кластери: [-1  0  1]\n",
      "Розміри кластера: [    3 41148  2802]\n"
     ]
    }
   ],
   "source": [
    "for eps in np.arange(0.1, 0.8, 0.05):\n",
    "    print(\"\\neps={}\".format(np.round(eps, 3)))\n",
    "    dbscan = DBSCAN(eps=eps, n_jobs=-1)\n",
    "    clusters = dbscan.fit_predict(X_train_scaled)\n",
    "    res = np.unique(clusters, return_counts=True)\n",
    "    print(\"Отримані кластери: {}\".format(res[0]))\n",
    "    print(\"Розміри кластера: {}\".format(res[1]))"
   ]
  },
  {
   "cell_type": "code",
   "execution_count": 12,
   "metadata": {},
   "outputs": [
    {
     "name": "stdout",
     "output_type": "stream",
     "text": [
      "\n",
      "eps=0.5\n",
      "Отримані кластери: [-1  0  1  2  3  4  5]\n",
      "Розміри кластера: [    6 24803  1768  6277  5578  2719  2802]\n",
      "\n",
      "eps=0.51\n",
      "Отримані кластери: [-1  0  1  2  3  4  5]\n",
      "Розміри кластера: [    6 24803  1768  6277  5578  2719  2802]\n",
      "\n",
      "eps=0.52\n",
      "Отримані кластери: [-1  0  1  2  3  4  5]\n",
      "Розміри кластера: [    6 24803  1768  6277  5578  2719  2802]\n",
      "\n",
      "eps=0.53\n",
      "Отримані кластери: [-1  0  1]\n",
      "Розміри кластера: [    6 41145  2802]\n",
      "\n",
      "eps=0.54\n",
      "Отримані кластери: [-1  0  1]\n",
      "Розміри кластера: [    5 41146  2802]\n",
      "\n",
      "eps=0.55\n",
      "Отримані кластери: [-1  0  1]\n",
      "Розміри кластера: [    5 41146  2802]\n"
     ]
    }
   ],
   "source": [
    "for eps in np.arange(0.5, 0.55, 0.01):\n",
    "    print(\"\\neps={}\".format(np.round(eps, 3)))\n",
    "    dbscan = DBSCAN(eps=eps, n_jobs=-1)\n",
    "    clusters = dbscan.fit_predict(X_train_scaled)\n",
    "    res = np.unique(clusters, return_counts=True)\n",
    "    print(\"Отримані кластери: {}\".format(res[0]))\n",
    "    print(\"Розміри кластера: {}\".format(res[1]))"
   ]
  },
  {
   "cell_type": "markdown",
   "metadata": {},
   "source": [
    "Значення котре вказано за замовуванням виявилось найкращим. Якщо ми оберемо параметр $eps$ трішки меньшим за 0.5 то в нас зявиться \"лишній\" кластер. Таким я його  рахую оскількіи він занадтомалий відносно інших. В результаті ми отримали 6 кластерів і 6 випадків викиду. Для того щоб перевірити те, що саме така кількість кластерів пораїуємо частоту і кількість кластерів на \"тренувальній\" і \"тестовій\" вибірках. Якщо вони будуть схожі то розбиття можна вважати коректним."
   ]
  },
  {
   "cell_type": "code",
   "execution_count": 13,
   "metadata": {
    "collapsed": true
   },
   "outputs": [],
   "source": [
    "dbscan = DBSCAN(n_jobs=-1)"
   ]
  },
  {
   "cell_type": "code",
   "execution_count": 14,
   "metadata": {
    "collapsed": true,
    "scrolled": true
   },
   "outputs": [],
   "source": [
    "train_clusters = pd.Series(dbscan.fit_predict(X_train_scaled))\n",
    "test_clusters = pd.Series(dbscan.fit_predict(X_test_scaled))"
   ]
  },
  {
   "cell_type": "code",
   "execution_count": 15,
   "metadata": {
    "collapsed": true
   },
   "outputs": [],
   "source": [
    "train_clusters_counts = train_clusters.value_counts(normalize=True)\n",
    "test_clusters_counts = test_clusters.value_counts(normalize=True)"
   ]
  },
  {
   "cell_type": "code",
   "execution_count": 16,
   "metadata": {},
   "outputs": [
    {
     "data": {
      "text/html": [
       "<div>\n",
       "<style>\n",
       "    .dataframe thead tr:only-child th {\n",
       "        text-align: right;\n",
       "    }\n",
       "\n",
       "    .dataframe thead th {\n",
       "        text-align: left;\n",
       "    }\n",
       "\n",
       "    .dataframe tbody tr th {\n",
       "        vertical-align: top;\n",
       "    }\n",
       "</style>\n",
       "<table border=\"1\" class=\"dataframe\">\n",
       "  <thead>\n",
       "    <tr style=\"text-align: right;\">\n",
       "      <th></th>\n",
       "      <th>0</th>\n",
       "      <th>1</th>\n",
       "    </tr>\n",
       "  </thead>\n",
       "  <tbody>\n",
       "    <tr>\n",
       "      <th>0</th>\n",
       "      <td>0.564307</td>\n",
       "      <td>0.563170</td>\n",
       "    </tr>\n",
       "    <tr>\n",
       "      <th>1</th>\n",
       "      <td>0.142812</td>\n",
       "      <td>0.144427</td>\n",
       "    </tr>\n",
       "    <tr>\n",
       "      <th>2</th>\n",
       "      <td>0.126908</td>\n",
       "      <td>0.129274</td>\n",
       "    </tr>\n",
       "    <tr>\n",
       "      <th>3</th>\n",
       "      <td>0.063750</td>\n",
       "      <td>0.064091</td>\n",
       "    </tr>\n",
       "    <tr>\n",
       "      <th>4</th>\n",
       "      <td>0.061862</td>\n",
       "      <td>0.058904</td>\n",
       "    </tr>\n",
       "    <tr>\n",
       "      <th>5</th>\n",
       "      <td>0.040225</td>\n",
       "      <td>0.039997</td>\n",
       "    </tr>\n",
       "    <tr>\n",
       "      <th>6</th>\n",
       "      <td>0.000137</td>\n",
       "      <td>0.000137</td>\n",
       "    </tr>\n",
       "  </tbody>\n",
       "</table>\n",
       "</div>"
      ],
      "text/plain": [
       "          0         1\n",
       "0  0.564307  0.563170\n",
       "1  0.142812  0.144427\n",
       "2  0.126908  0.129274\n",
       "3  0.063750  0.064091\n",
       "4  0.061862  0.058904\n",
       "5  0.040225  0.039997\n",
       "6  0.000137  0.000137"
      ]
     },
     "execution_count": 16,
     "metadata": {},
     "output_type": "execute_result"
    }
   ],
   "source": [
    "pd.DataFrame([train_clusters_counts.values, test_clusters_counts.values]).T"
   ]
  },
  {
   "cell_type": "code",
   "execution_count": 17,
   "metadata": {},
   "outputs": [
    {
     "data": {
      "image/png": "[encoded data removed]",
      "text/plain": [
       "<matplotlib.figure.Figure at 0x7f6cc56dbc50>"
      ]
     },
     "metadata": {},
     "output_type": "display_data"
    }
   ],
   "source": [
    "plt.figure(figsize=(14, 8))\n",
    "plt.subplot(121)\n",
    "plt.bar(np.arange(len(train_clusters_counts)-1), train_clusters_counts.values[:-1],  color='c') \n",
    "plt.subplot(122)\n",
    "plt.bar(np.arange(len(test_clusters_counts)-1), test_clusters_counts.values[:-1], color='g');"
   ]
  },
  {
   "cell_type": "markdown",
   "metadata": {},
   "source": [
    "Як можна зрозуміти з отриманих перевірок кількість кластерів котра була ззначенна раніше правдива. Проведемо кластеризацію всіх вхідних даних."
   ]
  },
  {
   "cell_type": "code",
   "execution_count": 18,
   "metadata": {
    "collapsed": true
   },
   "outputs": [],
   "source": [
    "scaler = StandardScaler()\n",
    "scaler.fit(df.values)\n",
    "X_numeric_scaled = scaler.transform(df.values)"
   ]
  },
  {
   "cell_type": "code",
   "execution_count": 19,
   "metadata": {
    "collapsed": true
   },
   "outputs": [],
   "source": [
    "dbscan = DBSCAN(n_jobs=-1)\n",
    "numeric_clusters = dbscan.fit_predict(X_numeric_scaled)"
   ]
  },
  {
   "cell_type": "code",
   "execution_count": 20,
   "metadata": {},
   "outputs": [
    {
     "data": {
      "text/plain": [
       "(array([-1,  0,  1,  2,  3,  4,  5]),\n",
       " array([    7, 33054,  2354,  7472,  3741,  3582,  8394]))"
      ]
     },
     "execution_count": 20,
     "metadata": {},
     "output_type": "execute_result"
    }
   ],
   "source": [
    "np.unique(numeric_clusters, return_counts=True)"
   ]
  },
  {
   "cell_type": "markdown",
   "metadata": {},
   "source": [
    "Розглянемо випадок коли третій стовпець вважаємо категоріальним"
   ]
  },
  {
   "cell_type": "code",
   "execution_count": 21,
   "metadata": {
    "collapsed": true
   },
   "outputs": [],
   "source": [
    "df = pd.read_csv('demo_categorical.csv')"
   ]
  },
  {
   "cell_type": "markdown",
   "metadata": {},
   "source": [
    "Розібємо дані на дві частини тренувальні і тестові"
   ]
  },
  {
   "cell_type": "code",
   "execution_count": 22,
   "metadata": {
    "collapsed": true
   },
   "outputs": [],
   "source": [
    "X_train, X_test = train_test_split(df.values, random_state=9)"
   ]
  },
  {
   "cell_type": "code",
   "execution_count": 23,
   "metadata": {
    "scrolled": true
   },
   "outputs": [
    {
     "data": {
      "text/plain": [
       "((43953, 8), (14651, 8))"
      ]
     },
     "execution_count": 23,
     "metadata": {},
     "output_type": "execute_result"
    }
   ],
   "source": [
    "X_train.shape, X_test.shape"
   ]
  },
  {
   "cell_type": "markdown",
   "metadata": {},
   "source": [
    "Промаштабуємо дані так, щоб одиничну диперсію"
   ]
  },
  {
   "cell_type": "code",
   "execution_count": 24,
   "metadata": {
    "collapsed": true,
    "scrolled": true
   },
   "outputs": [],
   "source": [
    "scaler = StandardScaler()"
   ]
  },
  {
   "cell_type": "code",
   "execution_count": 25,
   "metadata": {
    "collapsed": true
   },
   "outputs": [],
   "source": [
    "scaler.fit(X_train)\n",
    "X_train_scaled = scaler.transform(X_train)\n",
    "X_test_scaled = scaler.transform(X_test)"
   ]
  },
  {
   "cell_type": "code",
   "execution_count": 26,
   "metadata": {},
   "outputs": [
    {
     "data": {
      "text/plain": [
       "array([ 1.,  1.,  1.,  1.,  1.,  1.,  1.,  1.])"
      ]
     },
     "execution_count": 26,
     "metadata": {},
     "output_type": "execute_result"
    }
   ],
   "source": [
    "X_train_scaled.var(axis=0)"
   ]
  },
  {
   "cell_type": "markdown",
   "metadata": {},
   "source": [
    "Для кластеризації скористаємось алгоритмом DBSCAN оскільки він вміє працювати з даними які містять шум і для нього не потрібно задавати число кластерів, він підрахує їх сам."
   ]
  },
  {
   "cell_type": "markdown",
   "metadata": {},
   "source": [
    "Спробуємо визначити кластери спочатку для стандартних налаштувань методу"
   ]
  },
  {
   "cell_type": "code",
   "execution_count": 27,
   "metadata": {
    "collapsed": true
   },
   "outputs": [],
   "source": [
    "dbscan = DBSCAN(n_jobs=-1)"
   ]
  },
  {
   "cell_type": "code",
   "execution_count": 28,
   "metadata": {
    "collapsed": true
   },
   "outputs": [],
   "source": [
    "clusters = dbscan.fit_predict(X_train_scaled)"
   ]
  },
  {
   "cell_type": "code",
   "execution_count": 29,
   "metadata": {},
   "outputs": [
    {
     "data": {
      "text/plain": [
       "(array([-1,  0,  1,  2,  3,  4,  5]),\n",
       " array([    6, 24803,  1768,  6277,  5578,  2719,  2802]))"
      ]
     },
     "execution_count": 29,
     "metadata": {},
     "output_type": "execute_result"
    }
   ],
   "source": [
    "np.unique(clusters, return_counts=True)"
   ]
  },
  {
   "cell_type": "code",
   "execution_count": 30,
   "metadata": {
    "scrolled": false
   },
   "outputs": [
    {
     "name": "stdout",
     "output_type": "stream",
     "text": [
      "\n",
      "eps=0.1\n",
      "Отримані кластери: [-1  0  1  2  3  4  5  6  7  8  9 10 11 12 13 14 15 16 17 18 19 20 21 22 23\n",
      " 24 25 26 27 28 29 30 31 32 33 34 35 36 37 38 39 40 41 42 43 44 45 46 47 48\n",
      " 49 50 51 52 53 54 55 56 57 58 59 60 61 62 63 64 65 66 67 68 69 70 71 72 73\n",
      " 74 75 76 77 78 79 80 81 82 83 84 85 86 87 88 89 90 91 92 93 94]\n",
      "Розміри кластера: [  706 24622     6  6058  5379    39  2649    13   347  2154    29    14\n",
      "    54     8   375   249     6    36    71    54    12    80    23    26\n",
      "    21    85    26    42     6     7     9    20    28    95    11    11\n",
      "     5     9    18     9    25     9     8    40    10     7     8    10\n",
      "    11     5    24    38     8    15    11     6    20     5    23     5\n",
      "    18     7     8     7    17     5     5     9     5     7     7     6\n",
      "     5     5     7     8     8     6     8    10     5     7     6     7\n",
      "     8     5     7    10     9     1     7     3     4     6     5     5]\n",
      "\n",
      "eps=0.15\n",
      "Отримані кластери: [-1  0  1  2  3  4  5  6  7  8  9 10 11 12 13 14 15 16 17 18 19]\n",
      "Розміри кластера: [  128 24665  1380  6253  5566  2663  2737    13   358    80    39     6\n",
      "     9    13     9    10     3     7     4     5     5]\n",
      "\n",
      "eps=0.2\n",
      "Отримані кластери: [-1  0  1  2  3  4  5  6  7  8]\n",
      "Розміри кластера: [   53 24778  1766  6261  5576  2706  2797     8     3     5]\n",
      "\n",
      "eps=0.25\n",
      "Отримані кластери: [-1  0  1  2  3  4  5  6]\n",
      "Розміри кластера: [   35 24788  1766  6269  5576  2713  2798     8]\n",
      "\n",
      "eps=0.3\n",
      "Отримані кластери: [-1  0  1  2  3  4  5  6]\n",
      "Розміри кластера: [   17 24794  1768  6277  5576  2714  2802     5]\n",
      "\n",
      "eps=0.35\n",
      "Отримані кластери: [-1  0  1  2  3  4  5  6]\n",
      "Розміри кластера: [   10 24798  1768  6277  5578  2715  2802     5]\n",
      "\n",
      "eps=0.4\n",
      "Отримані кластери: [-1  0  1  2  3  4  5  6]\n",
      "Розміри кластера: [   10 24798  1768  6277  5578  2715  2802     5]\n",
      "\n",
      "eps=0.45\n",
      "Отримані кластери: [-1  0  1  2  3  4  5  6]\n",
      "Розміри кластера: [   10 24798  1768  6277  5578  2715  2802     5]\n",
      "\n",
      "eps=0.5\n",
      "Отримані кластери: [-1  0  1  2  3  4  5]\n",
      "Розміри кластера: [    6 24803  1768  6277  5578  2719  2802]\n",
      "\n",
      "eps=0.55\n",
      "Отримані кластери: [-1  0  1  2  3  4  5]\n",
      "Розміри кластера: [    5 24803  1768  6278  5578  2719  2802]\n",
      "\n",
      "eps=0.6\n",
      "Отримані кластери: [-1  0  1  2  3  4  5]\n",
      "Розміри кластера: [    5 24803  1768  6278  5578  2719  2802]\n",
      "\n",
      "eps=0.65\n",
      "Отримані кластери: [-1  0  1  2  3  4  5]\n",
      "Розміри кластера: [    5 24803  1768  6278  5578  2719  2802]\n",
      "\n",
      "eps=0.7\n",
      "Отримані кластери: [-1  0  1  2  3  4  5]\n",
      "Розміри кластера: [    4 24803  1768  6279  5578  2719  2802]\n",
      "\n",
      "eps=0.75\n",
      "Отримані кластери: [-1  0  1  2  3  4  5]\n",
      "Розміри кластера: [    4 24803  1768  6279  5578  2719  2802]\n",
      "\n",
      "eps=0.8\n",
      "Отримані кластери: [-1  0  1  2  3  4  5]\n",
      "Розміри кластера: [    4 24803  1768  6279  5578  2719  2802]\n",
      "\n",
      "eps=0.85\n",
      "Отримані кластери: [-1  0  1  2  3  4  5]\n",
      "Розміри кластера: [    3 24803  1769  6279  5578  2719  2802]\n",
      "\n",
      "eps=0.9\n",
      "Отримані кластери: [-1  0  1  2  3  4  5]\n",
      "Розміри кластера: [    3 24803  1769  6279  5578  2719  2802]\n",
      "\n",
      "eps=0.95\n",
      "Отримані кластери: [-1  0  1  2  3  4  5]\n",
      "Розміри кластера: [    3 24803  1769  6279  5578  2719  2802]\n"
     ]
    }
   ],
   "source": [
    "for eps in np.arange(0.1, 1, 0.05):\n",
    "    print(\"\\neps={}\".format(np.round(eps, 3)))\n",
    "    dbscan = DBSCAN(eps=eps, n_jobs=-1)\n",
    "    clusters = dbscan.fit_predict(X_train_scaled)\n",
    "    res = np.unique(clusters, return_counts=True)\n",
    "    print(\"Отримані кластери: {}\".format(res[0]))\n",
    "    print(\"Розміри кластера: {}\".format(res[1]))"
   ]
  },
  {
   "cell_type": "markdown",
   "metadata": {},
   "source": [
    "Також було розбито на 6 кластерів і якщо порівнювати значення частот при $eps=0.5$ для числового і категоріальних впадків 3 стовпця то вони аналогічні(варто перевірити чи всі елементи одинаково розподіляють по кластерах). Проте випадок коли вважати 3 стовпець початкових даних категоріальним виглядає більш правдоподібніше і якісніше оскільки на нього на тк сильно впливають налаштування гіперпараметру."
   ]
  },
  {
   "cell_type": "markdown",
   "metadata": {},
   "source": [
    "Перевіримо чи на ідентичні кластери розбиває метод для числового і категоріального 3 стовпця"
   ]
  },
  {
   "cell_type": "code",
   "execution_count": 31,
   "metadata": {
    "collapsed": true
   },
   "outputs": [],
   "source": [
    "scaler = StandardScaler()\n",
    "scaler.fit(df.values)\n",
    "X_categorical_scaled = scaler.transform(df.values)"
   ]
  },
  {
   "cell_type": "code",
   "execution_count": 32,
   "metadata": {
    "collapsed": true
   },
   "outputs": [],
   "source": [
    "dbscan = DBSCAN(n_jobs=-1)\n",
    "categorical_clusters = dbscan.fit_predict(X_categorical_scaled)"
   ]
  },
  {
   "cell_type": "code",
   "execution_count": 33,
   "metadata": {},
   "outputs": [
    {
     "data": {
      "text/plain": [
       "True"
      ]
     },
     "execution_count": 33,
     "metadata": {},
     "output_type": "execute_result"
    }
   ],
   "source": [
    "np.all(categorical_clusters == numeric_clusters)"
   ]
  },
  {
   "cell_type": "markdown",
   "metadata": {
    "collapsed": true
   },
   "source": [
    "Отже, результи котрі отримуємо довома шляхами ідентичні."
   ]
  },
  {
   "cell_type": "markdown",
   "metadata": {},
   "source": [
    "# Висновок"
   ]
  },
  {
   "cell_type": "markdown",
   "metadata": {},
   "source": [
    "Нема різниці яким типом рахувати третій стовбець початкових даних оскільки результати котрі дає метод одинакові. Проте варто відмітити те, що у випадку що підчас числового випадку метод працює значно швидше(оскільки менше ознак) проте сильно залежить від значення параметру $eps$. В свою чергу використання категоріальної ознаки повертає стабільніші результати і підтверджує припущення про кількість кластерів котра дорівнює __6__."
   ]
  }
 ],
 "metadata": {
  "kernelspec": {
   "display_name": "Python 3",
   "language": "python",
   "name": "python3"
  },
  "language_info": {
   "codemirror_mode": {
    "name": "ipython",
    "version": 3
   },
   "file_extension": ".py",
   "mimetype": "text/x-python",
   "name": "python",
   "nbconvert_exporter": "python",
   "pygments_lexer": "ipython3",
   "version": "3.6.3"
  }
 },
 "nbformat": 4,
 "nbformat_minor": 2
}
